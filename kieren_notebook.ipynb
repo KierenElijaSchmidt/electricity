{
 "cells": [
  {
   "cell_type": "markdown",
   "id": "44cdc368",
   "metadata": {},
   "source": [
    "# 1. Imports"
   ]
  },
  {
   "cell_type": "code",
   "execution_count": null,
   "id": "35f98a0a-506d-4df1-b671-93a96a9cb7de",
   "metadata": {
    "execution": {
     "iopub.execute_input": "2025-08-25T09:22:11.340871Z",
     "iopub.status.busy": "2025-08-25T09:22:11.340302Z",
     "iopub.status.idle": "2025-08-25T09:22:10.413365Z",
     "shell.execute_reply": "2025-08-25T09:22:10.412175Z",
     "shell.execute_reply.started": "2025-08-25T09:22:11.340823Z"
    }
   },
   "outputs": [],
   "source": [
    "# --- Notebook Cell 1: Imports & setup (run from repo root) ---\n",
    "%load_ext autoreload\n",
    "%autoreload 2\n",
    "\n",
    "import sys\n",
    "from pathlib import Path\n",
    "\n",
    "# make sure local modules are importable (load.py, preprocessing.py, models.py in repo root)\n",
    "repo_root = Path(\".\").resolve()\n",
    "if str(repo_root) not in sys.path:\n",
    "    sys.path.append(str(repo_root))\n",
    "\n",
    "import numpy as np\n",
    "import pandas as pd\n",
    "\n",
    "# optional: nicer DataFrame display\n",
    "pd.set_option(\"display.max_columns\", 200)\n",
    "pd.set_option(\"display.width\", 140)\n",
    "\n",
    "from load import Loading\n",
    "from preprocessing import Preprocessor  # unified pipeline builder\n",
    "\n",
    "\n",
    "# --- Notebook Cell 2: Load data via load.Loading (no duplicate date-features) ---\n",
    "\n",
    "DATA_FILE = \"complete_dataset.csv\"  # file lives in repo root alongside load.py\n",
    "\n",
    "loader = Loading(\n",
    "    filepath=DATA_FILE,\n",
    "    create_time_features=False,   # avoid duplicating with preprocessing.DateCyclicalFeatures\n",
    "    return_X_y=True               # directly return X, y\n",
    ")\n",
    "\n",
    "X, y = loader.load_data()\n",
    "display(X.head(3))\n",
    "display(y.head(3))\n",
    "print(f\"Shapes -> X: {X.shape}, y: {y.shape}\")\n",
    "\n",
    "# --- Notebook Cell 3: Simple model with unified preprocessing (LinearRegression + TS CV) ---\n",
    "\n",
    "# Build preprocessing + model pipeline.\n",
    "# Preprocessor will add date/cyclical features, impute/scale/one-hot, and prune highly correlated features.\n",
    "pre = Preprocessor(\n",
    "    filepath=\"\",                 # not used when we pass data directly\n",
    "    add_date_features=True,      # safe: loader didn't create date features\n",
    "    corr_threshold=0.95\n",
    ")\n",
    "\n",
    "# provide data (ensures DateTimeIndex, applies leaky-column drop, etc.)\n",
    "pre.set_data(pd.concat([X, y.rename(pre.target_col)], axis=1))\n",
    "\n",
    "# Evaluate with TimeSeriesSplit cross-validation; defaults to LinearRegression\n",
    "metrics = pre.evaluate(n_splits=5)\n",
    "\n",
    "print(\"R² (per fold):\", np.round(metrics[\"r2_scores\"], 4))\n",
    "print(\"R² (mean):     \", round(metrics[\"r2_mean\"], 4))\n",
    "print(\"RMSE (per fold):\", np.round(metrics[\"rmse_scores\"], 4))\n",
    "print(\"RMSE (mean):    \", round(metrics[\"rmse_mean\"], 4))\n",
    "\n",
    "# Fitted end-to-end pipeline for later .predict()\n",
    "fitted_pipeline = metrics[\"pipeline\"]"
   ]
  },
  {
   "cell_type": "markdown",
   "id": "fcddc53f",
   "metadata": {},
   "source": [
    "# 2. EDA"
   ]
  },
  {
   "cell_type": "code",
   "execution_count": null,
   "id": "4f99a700",
   "metadata": {},
   "outputs": [
    {
     "data": {
      "text/html": [
       "<div>\n",
       "<style scoped>\n",
       "    .dataframe tbody tr th:only-of-type {\n",
       "        vertical-align: middle;\n",
       "    }\n",
       "\n",
       "    .dataframe tbody tr th {\n",
       "        vertical-align: top;\n",
       "    }\n",
       "\n",
       "    .dataframe thead th {\n",
       "        text-align: right;\n",
       "    }\n",
       "</style>\n",
       "<table border=\"1\" class=\"dataframe\">\n",
       "  <thead>\n",
       "    <tr style=\"text-align: right;\">\n",
       "      <th></th>\n",
       "      <th>demand</th>\n",
       "      <th>min_temperature</th>\n",
       "      <th>max_temperature</th>\n",
       "      <th>solar_exposure</th>\n",
       "      <th>rainfall</th>\n",
       "      <th>school_day</th>\n",
       "      <th>holiday</th>\n",
       "    </tr>\n",
       "    <tr>\n",
       "      <th>date</th>\n",
       "      <th></th>\n",
       "      <th></th>\n",
       "      <th></th>\n",
       "      <th></th>\n",
       "      <th></th>\n",
       "      <th></th>\n",
       "      <th></th>\n",
       "    </tr>\n",
       "  </thead>\n",
       "  <tbody>\n",
       "    <tr>\n",
       "      <th>2015-01-01</th>\n",
       "      <td>99635.03</td>\n",
       "      <td>13.3</td>\n",
       "      <td>26.9</td>\n",
       "      <td>23.6</td>\n",
       "      <td>0.0</td>\n",
       "      <td>0</td>\n",
       "      <td>1</td>\n",
       "    </tr>\n",
       "    <tr>\n",
       "      <th>2015-01-02</th>\n",
       "      <td>129606.01</td>\n",
       "      <td>15.4</td>\n",
       "      <td>38.8</td>\n",
       "      <td>26.8</td>\n",
       "      <td>0.0</td>\n",
       "      <td>0</td>\n",
       "      <td>0</td>\n",
       "    </tr>\n",
       "    <tr>\n",
       "      <th>2015-01-03</th>\n",
       "      <td>142300.54</td>\n",
       "      <td>20.0</td>\n",
       "      <td>38.2</td>\n",
       "      <td>26.5</td>\n",
       "      <td>0.0</td>\n",
       "      <td>0</td>\n",
       "      <td>0</td>\n",
       "    </tr>\n",
       "  </tbody>\n",
       "</table>\n",
       "</div>"
      ],
      "text/plain": [
       "               demand  min_temperature  max_temperature  solar_exposure  rainfall  school_day  holiday\n",
       "date                                                                                                  \n",
       "2015-01-01   99635.03             13.3             26.9            23.6       0.0           0        1\n",
       "2015-01-02  129606.01             15.4             38.8            26.8       0.0           0        0\n",
       "2015-01-03  142300.54             20.0             38.2            26.5       0.0           0        0"
      ]
     },
     "metadata": {},
     "output_type": "display_data"
    },
    {
     "data": {
      "text/plain": [
       "date\n",
       "2015-01-01    25.633696\n",
       "2015-01-02    33.138988\n",
       "2015-01-03    34.564855\n",
       "Name: RRP, dtype: float64"
      ]
     },
     "metadata": {},
     "output_type": "display_data"
    },
    {
     "name": "stdout",
     "output_type": "stream",
     "text": [
      "Shapes -> X: (2106, 7), y: (2106,)\n"
     ]
    }
   ],
   "source": []
  },
  {
   "cell_type": "code",
   "execution_count": null,
   "id": "9adf8b6c",
   "metadata": {},
   "outputs": [
    {
     "name": "stdout",
     "output_type": "stream",
     "text": [
      "🔎 CorrelationSelector dropped 6 features: [9, 11, 14, 15, 16, 17]\n",
      "🔎 CorrelationSelector dropped 6 features: [9, 11, 14, 15, 16, 17]\n",
      "🔎 CorrelationSelector dropped 6 features: [9, 11, 14, 15, 16, 17]\n",
      "🔎 CorrelationSelector dropped 6 features: [9, 11, 14, 15, 16, 17]\n",
      "🔎 CorrelationSelector dropped 6 features: [9, 11, 14, 15, 16, 17]\n",
      "🔎 CorrelationSelector dropped 6 features: [9, 11, 14, 15, 16, 17]\n",
      "R² (per fold): [-0.0982 -0.1169 -0.0401  0.0546 -0.1226]\n",
      "R² (mean):      -0.0646\n",
      "RMSE (per fold): [ 42.2434  33.559   78.2577 243.5744 167.7561]\n",
      "RMSE (mean):     113.0781\n"
     ]
    }
   ],
   "source": []
  },
  {
   "cell_type": "code",
   "execution_count": 22,
   "id": "1fddbb91",
   "metadata": {},
   "outputs": [
    {
     "name": "stdout",
     "output_type": "stream",
     "text": [
      "🔎 CorrelationSelector dropped 6 features: [9, 11, 14, 15, 16, 17]\n",
      "Holdout R² (last 30):  -7.3575\n",
      "Holdout RMSE (last 30): 46.1146\n"
     ]
    }
   ],
   "source": [
    "# --- Notebook Cell 4 (optional): Predict on the latest horizon for a quick sanity check ---\n",
    "\n",
    "# pick a simple holdout window (e.g., last 30 observations)\n",
    "h = 30\n",
    "X_train, y_train = X.iloc[:-h], y.iloc[:-h]\n",
    "X_test,  y_test  = X.iloc[-h:], y.iloc[-h:]\n",
    "\n",
    "# re-fit pipeline on train only, then evaluate on holdout\n",
    "pipe = pre.build_pipeline()  # uses LinearRegression by default\n",
    "pipe.fit(X_train, y_train)\n",
    "\n",
    "y_pred = pipe.predict(X_test)\n",
    "holdout_r2 = float(((y_test - y_test.mean())**2).sum() - ((y_test - y_pred)**2).sum()) / float(((y_test - y_test.mean())**2).sum())\n",
    "holdout_rmse = float(np.sqrt(np.mean((y_test - y_pred) ** 2)))\n",
    "\n",
    "print(f\"Holdout R² (last {h}):  {holdout_r2:.4f}\")\n",
    "print(f\"Holdout RMSE (last {h}): {holdout_rmse:.4f}\")\n"
   ]
  }
 ],
 "metadata": {
  "kernelspec": {
   "display_name": "electricity",
   "language": "python",
   "name": "python3"
  },
  "language_info": {
   "codemirror_mode": {
    "name": "ipython",
    "version": 3
   },
   "file_extension": ".py",
   "mimetype": "text/x-python",
   "name": "python",
   "nbconvert_exporter": "python",
   "pygments_lexer": "ipython3",
   "version": "3.10.6"
  }
 },
 "nbformat": 4,
 "nbformat_minor": 5
}
