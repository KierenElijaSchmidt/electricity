{
 "cells": [
  {
   "cell_type": "code",
   "execution_count": null,
   "id": "75121f6c",
   "metadata": {},
   "outputs": [
    {
     "name": "stdout",
     "output_type": "stream",
     "text": [
      "Starting Darts analysis...\n",
      "\n",
      "--- Running Models ---\n",
      "Running Linear Regression...\n",
      "Linear Regression Results: {'mae': 12.825489244659483, 'mse': 239.60240876183744, 'rmse': 15.47909586383641, 'r2': -0.2119166755400297}\n",
      "Running Random Forest...\n",
      "Random Forest Results: {'mae': 14.2120722743931, 'mse': 274.36001829624854, 'rmse': 16.563816537750245, 'r2': -0.38772178039827065}\n",
      "Running XGBoost...\n",
      "XGBoost Results: {'mae': 14.595174756412987, 'mse': 308.70721115422754, 'rmse': 17.570065769775237, 'r2': -0.5614509845313975}\n",
      "Linear Regression Scores: {'mae': 12.825489244659483, 'mse': 239.60240876183744, 'rmse': 15.47909586383641, 'r2': -0.2119166755400297}\n",
      "Random Forest Scores: {'mae': 14.2120722743931, 'mse': 274.36001829624854, 'rmse': 16.563816537750245, 'r2': -0.38772178039827065}\n",
      "XGBoost Scores: {'mae': 14.595174756412987, 'mse': 308.70721115422754, 'rmse': 17.570065769775237, 'r2': -0.5614509845313975}\n",
      "\n",
      "--- Comparing Results ---\n",
      "Linear Regression - MAE: 12.8255, RMSE: 15.4791, R2: -0.2119\n",
      "Random Forest     - MAE: 14.2121, RMSE: 16.5638, R2: -0.3877\n",
      "XGBoost           - MAE: 14.5952, RMSE: 17.5701, R2: -0.5615\n",
      "\n",
      "Best model by MAE: Linear Regression\n",
      "Best model by RMSE: Linear Regression\n",
      "Best model by R2: Linear Regression\n",
      "\n",
      "Analysis complete!\n"
     ]
    }
   ],
   "source": [
    "import pandas as pd\n",
    "import numpy as np\n",
    "from darts import TimeSeries\n",
    "from darts_preprocessing import loader, preprocessor\n",
    "from darts_linear_regression import run_linear_regression\n",
    "from darts_randomforest import run_randomforest\n",
    "from darts_xgboost import run_xgboost\n",
    "\n",
    "def main():\n",
    "    \"\"\"Esegue la pipeline Darts.\"\"\"\n",
    "    print(\"Starting Darts analysis...\")\n",
    "    file_path = \"complete_dataset.csv\" \n",
    "    loaded_data = loader(file_path)\n",
    "    \n",
    "    # Preprocessing dei dati\n",
    "    _, series, covariates, _ = preprocessor(loaded_data)\n",
    "    \n",
    "    # Split dei dati in training e test\n",
    "    train_size = int(len(series) * 0.8)\n",
    "    y_train, y_test = series[:train_size], series[train_size:]\n",
    "    X_train, X_test = covariates[:train_size], covariates[train_size:len(series)] \n",
    "\n",
    "    print(\"\\n--- Running Models ---\")\n",
    "    # Dizionario per memorizzare i risultati di tutti i modelli\n",
    "    models_results = {\n",
    "        'Linear Regression': run_linear_regression(y_train, y_test, X_train, X_test),\n",
    "        'Random Forest': run_randomforest(y_train, y_test, X_train, X_test),\n",
    "        'XGBoost': run_xgboost(y_train, y_test, X_train, X_test)\n",
    "    }\n",
    "\n",
    "    # Estrai i punteggi per una stampa più chiara\n",
    "    lr_scores = models_results['Linear Regression']\n",
    "    rf_scores = models_results['Random Forest']\n",
    "    xgb_scores = models_results['XGBoost']\n",
    "\n",
    "    print(\"Linear Regression Scores:\", lr_scores)\n",
    "    print(\"Random Forest Scores:\", rf_scores)\n",
    "    print(\"XGBoost Scores:\", xgb_scores)\n",
    "\n",
    "    print(\"\\n--- Comparing Results ---\")\n",
    "    # Stampa i risultati confrontando le metriche\n",
    "    print(f\"Linear Regression - MAE: {lr_scores['mae']:.4f}, RMSE: {lr_scores['rmse']:.4f}, R2: {lr_scores['r2']:.4f}\")\n",
    "    print(f\"Random Forest     - MAE: {rf_scores['mae']:.4f}, RMSE: {rf_scores['rmse']:.4f}, R2: {rf_scores['r2']:.4f}\")\n",
    "    print(f\"XGBoost           - MAE: {xgb_scores['mae']:.4f}, RMSE: {xgb_scores['rmse']:.4f}, R2: {xgb_scores['r2']:.4f}\")\n",
    "\n",
    "    # Trova il modello migliore\n",
    "    best_model_mae = min(models_results.keys(), key=lambda k: models_results[k]['mae'])\n",
    "    best_model_rmse = min(models_results.keys(), key=lambda k: models_results[k]['rmse'])\n",
    "    best_model_r2 = max(models_results.keys(), key=lambda k: models_results[k]['r2'])\n",
    "\n",
    "    print(f\"\\nBest model by MAE: {best_model_mae}\")\n",
    "    print(f\"Best model by RMSE: {best_model_rmse}\")\n",
    "    print(f\"Best model by R2: {best_model_r2}\")\n",
    "\n",
    "    print(\"\\nAnalysis complete!\")r\n",
    "\n",
    "if __name__ == \"__main__\":\n",
    "    main()"
   ]
  },
  {
   "cell_type": "code",
   "execution_count": null,
   "id": "c828e2d7",
   "metadata": {},
   "outputs": [],
   "source": []
  },
  {
   "cell_type": "code",
   "execution_count": null,
   "id": "de77ac6f",
   "metadata": {},
   "outputs": [],
   "source": []
  },
  {
   "cell_type": "code",
   "execution_count": null,
   "id": "08e87949",
   "metadata": {},
   "outputs": [],
   "source": []
  }
 ],
 "metadata": {
  "kernelspec": {
   "display_name": "electricity",
   "language": "python",
   "name": "python3"
  },
  "language_info": {
   "codemirror_mode": {
    "name": "ipython",
    "version": 3
   },
   "file_extension": ".py",
   "mimetype": "text/x-python",
   "name": "python",
   "nbconvert_exporter": "python",
   "pygments_lexer": "ipython3",
   "version": "3.10.6"
  }
 },
 "nbformat": 4,
 "nbformat_minor": 5
}
