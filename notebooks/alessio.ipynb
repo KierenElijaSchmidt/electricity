{
 "cells": [
  {
   "cell_type": "code",
   "execution_count": null,
   "id": "45330069",
   "metadata": {},
   "outputs": [
    {
     "name": "stdout",
     "output_type": "stream",
     "text": [
      "Naïve last-day baseline: MAE=24.60, RMSE=156.26, R²=-0.44\n"
     ]
    }
   ],
   "source": [
    "import pandas as pd\n",
    "import numpy as np\n",
    "from sklearn.metrics import mean_absolute_error, mean_squared_error\n",
    "\n",
    "# Load the complete dataset\n",
    "df = pd.read_csv('/Users/Alessio/Desktop/complete_dataset.csv')\n",
    "\n",
    "import pandas as pd\n",
    "from sklearn.metrics import mean_absolute_error, mean_squared_error, r2_score\n",
    "import numpy as np\n",
    "\n",
    "\n",
    "\n",
    "\n",
    "\n",
    "\n",
    "# Make sure 'date' is datetime and sorted\n",
    "df['data'] = pd.to_datetime(df['date'])\n",
    "df = df.sort_values('date')\n",
    "\n",
    "# Create last-day (lag-1) prediction\n",
    "df['RRP_pred_last_day'] = df['RRP'].shift(1)\n",
    "\n",
    "# Drop the first row with NaN lag\n",
    "df_eval = df.dropna()\n",
    "\n",
    "\n",
    "# Evaluate baseline\n",
    "from sklearn.metrics import mean_absolute_error, mean_squared_error, r2_score\n",
    "import numpy as np\n",
    "\n",
    "\n",
    "\n",
    "\n",
    "\n",
    "\n",
    "y_true = df_eval['RRP']\n",
    "y_pred = df_eval['RRP_pred_last_day']\n",
    "\n",
    "mae = mean_absolute_error(y_true, y_pred)\n",
    "rmse = np.sqrt(mean_squared_error(y_true, y_pred))\n",
    "r2 = r2_score(y_true, y_pred)\n",
    "\n",
    "print(f\"Naïve last-day baseline: MAE={mae:.2f}, RMSE={rmse:.2f}, R²={r2:.2f}\")"
   ]
  },
  {
   "cell_type": "code",
   "execution_count": null,
   "id": "22f7c368",
   "metadata": {},
   "outputs": [],
   "source": []
  },
  {
   "cell_type": "code",
   "execution_count": null,
   "id": "2e70ae83",
   "metadata": {},
   "outputs": [],
   "source": []
  }
 ],
 "metadata": {
  "kernelspec": {
   "display_name": "electricity",
   "language": "python",
   "name": "python3"
  },
  "language_info": {
   "codemirror_mode": {
    "name": "ipython",
    "version": 3
   },
   "file_extension": ".py",
   "mimetype": "text/x-python",
   "name": "python",
   "nbconvert_exporter": "python",
   "pygments_lexer": "ipython3",
   "version": "3.10.6"
  }
 },
 "nbformat": 4,
 "nbformat_minor": 5
}
